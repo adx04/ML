{
 "cells": [
  {
   "cell_type": "code",
   "execution_count": 1,
   "metadata": {},
   "outputs": [],
   "source": [
    "from sklearn.naive_bayes import MultinomialNB\n",
    "from sklearn.naive_bayes import BernoulliNB\n",
    "from sklearn.naive_bayes import GaussianNB\n",
    "from sklearn.model_selection import train_test_split\n",
    "from sklearn.metrics import accuracy_score\n",
    "\n",
    "import pandas as pd\n",
    "import numpy as np\n",
    "import urllib"
   ]
  },
  {
   "cell_type": "code",
   "execution_count": 2,
   "metadata": {},
   "outputs": [],
   "source": [
    "url = \"https://archive.ics.uci.edu/ml/machine-learning-databases/spambase/spambase.data\"\n",
    "raw_data = urllib.urlopen(url)\n",
    "dataset = np.loadtxt(raw_data, delimiter = ',')"
   ]
  },
  {
   "cell_type": "code",
   "execution_count": 3,
   "metadata": {},
   "outputs": [
    {
     "name": "stdout",
     "output_type": "stream",
     "text": [
      "[  0.      0.64    0.64    0.      0.32    0.      0.      0.      0.\n",
      "   0.      0.      0.64    0.      0.      0.      0.32    0.      1.29\n",
      "   1.93    0.      0.96    0.      0.      0.      0.      0.      0.\n",
      "   0.      0.      0.      0.      0.      0.      0.      0.      0.\n",
      "   0.      0.      0.      0.      0.      0.      0.      0.      0.\n",
      "   0.      0.      0.      0.      0.      0.      0.778   0.      0.\n",
      "   3.756  61.    278.      1.   ]\n"
     ]
    }
   ],
   "source": [
    "print (dataset[0])"
   ]
  },
  {
   "cell_type": "code",
   "execution_count": 4,
   "metadata": {},
   "outputs": [],
   "source": [
    "features = dataset[:, 0:48]\n",
    "labels = dataset[:, -1]\n",
    "features_train, features_test, labels_train, labels_test = train_test_split(features, labels, test_size= .10, random_state = 17)"
   ]
  },
  {
   "cell_type": "code",
   "execution_count": 5,
   "metadata": {},
   "outputs": [
    {
     "name": "stdout",
     "output_type": "stream",
     "text": [
      "MultinomialNB(alpha=1.0, class_prior=None, fit_prior=True)\n",
      "('Accuracy Score : ', 0.89587852494577, '%')\n"
     ]
    }
   ],
   "source": [
    "mlnNB = MultinomialNB()\n",
    "mlnNB.fit(features_train, labels_train)\n",
    "print (mlnNB)\n",
    "pred_on_test_data = mlnNB.predict(features_test)\n",
    "score =  accuracy_score(pred_on_test_data, labels_test)\n",
    "print (\"Accuracy Score : \", score ,\"%\")"
   ]
  },
  {
   "cell_type": "code",
   "execution_count": 6,
   "metadata": {},
   "outputs": [
    {
     "name": "stdout",
     "output_type": "stream",
     "text": [
      "GaussianNB(priors=None, var_smoothing=1e-09)\n",
      "('Accuracy Score : ', 0.8459869848156182, '%')\n"
     ]
    }
   ],
   "source": [
    "gNB = GaussianNB()\n",
    "gNB.fit(features_train, labels_train)\n",
    "print (gNB)\n",
    "pred_on_test_data = gNB.predict(features_test)\n",
    "score =  accuracy_score(pred_on_test_data, labels_test)\n",
    "print (\"Accuracy Score : \", score ,\"%\")"
   ]
  },
  {
   "cell_type": "code",
   "execution_count": 7,
   "metadata": {},
   "outputs": [
    {
     "name": "stdout",
     "output_type": "stream",
     "text": [
      "('Accuracy score in Bernoulli Classifier : ', 0.911062906724512, '%')\n"
     ]
    }
   ],
   "source": [
    "bnlNB = BernoulliNB(alpha = 1.0)\n",
    "bnlNB.fit(features_train, labels_train)\n",
    "pred_from_test_data = bnlNB.predict(features_test)\n",
    "bln_pred = pred_from_test_data\n",
    "score = accuracy_score(pred_from_test_data, labels_test)\n",
    "print (\"Accuracy score in Bernoulli Classifier : \", score, \"%\")"
   ]
  },
  {
   "cell_type": "code",
   "execution_count": 8,
   "metadata": {},
   "outputs": [
    {
     "name": "stdout",
     "output_type": "stream",
     "text": [
      "('Total test records: ', 461)\n"
     ]
    },
    {
     "data": {
      "text/plain": [
       "array([[193,  43],\n",
       "       [  5, 220]])"
      ]
     },
     "execution_count": 8,
     "metadata": {},
     "output_type": "execute_result"
    }
   ],
   "source": [
    "from sklearn.metrics import confusion_matrix\n",
    "print (\"Total test records: \", len(labels_test))\n",
    "confusion_matrix(mlnNB.predict(features_test), labels_test, labels=[1,0])"
   ]
  },
  {
   "cell_type": "code",
   "execution_count": null,
   "metadata": {},
   "outputs": [],
   "source": []
  }
 ],
 "metadata": {
  "kernelspec": {
   "display_name": "Python 2",
   "language": "python",
   "name": "python2"
  },
  "language_info": {
   "codemirror_mode": {
    "name": "ipython",
    "version": 2
   },
   "file_extension": ".py",
   "mimetype": "text/x-python",
   "name": "python",
   "nbconvert_exporter": "python",
   "pygments_lexer": "ipython2",
   "version": "2.7.16"
  }
 },
 "nbformat": 4,
 "nbformat_minor": 2
}
